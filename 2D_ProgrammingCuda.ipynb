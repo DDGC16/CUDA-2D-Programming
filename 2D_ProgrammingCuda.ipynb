{
  "nbformat": 4,
  "nbformat_minor": 0,
  "metadata": {
    "colab": {
      "provenance": [],
      "gpuType": "T4"
    },
    "kernelspec": {
      "name": "python3",
      "display_name": "Python 3"
    },
    "language_info": {
      "name": "python"
    },
    "accelerator": "GPU"
  },
  "cells": [
    {
      "cell_type": "markdown",
      "source": [
        "# 2D Matrix Multiplication using C++\n",
        "\n"
      ],
      "metadata": {
        "id": "t3EW7lw2UqS3"
      }
    },
    {
      "cell_type": "code",
      "source": [
        "%%writefile ElementWiseC.c\n",
        "#include <stdlib.h>\n",
        "#include <time.h>\n",
        "#include <stdio.h>\n",
        "#include \"parameters.c\"  // contains # of elements\n",
        "\n",
        "void ElemW(float* x, float* y, float* z, int N) {\n",
        "    for (int i = 0; i < N; i++)  // i = column\n",
        "    {\n",
        "        for (int j = 0; j < N; j++)  // j = rows\n",
        "        {\n",
        "            int offset = i * N + j;\n",
        "            *(z + offset) = *(y + offset) * *(x + offset);\n",
        "        }\n",
        "    }\n",
        "}\n",
        "\n",
        "void verifyMatrixMultiplication(float* x, float* y, float* z, int N) {\n",
        "    for (int i = 0; i < N; i++) {\n",
        "        for (int j = 0; j < N; j++) {\n",
        "            int offset = i * N + j;\n",
        "            float expected = y[offset] * x[offset];\n",
        "            if (z[offset] != expected) {\n",
        "                printf(\"Verification failed at index (%d, %d).\\n\", i, j);\n",
        "                printf(\"Expected: %f, Actual: %f\\n\", expected, z[offset]);\n",
        "                return;\n",
        "            }\n",
        "        }\n",
        "    }\n",
        "    printf(\"Verification successful. Matrix multiplication is correct.\\n\");\n",
        "}\n",
        "\n",
        "int main() {\n",
        "    const int ARRAY_BYTES = ARRAY_SIZE * sizeof(float);\n",
        "    float* x, * y, * z;\n",
        "\n",
        "    z = (float*)malloc(ARRAY_BYTES);\n",
        "    x = (float*)malloc(ARRAY_BYTES);\n",
        "    y = (float*)malloc(ARRAY_BYTES);\n",
        "\n",
        "    for (int i = 0; i < N; i++) {\n",
        "        for (int j = 0; j < N; j++) {\n",
        "            int offset = i * N + j;\n",
        "            *(x + offset) = 2.0;\n",
        "        }\n",
        "    }\n",
        "\n",
        "    for (int i = 0; i < N; i++) {\n",
        "        for (int j = 0; j < N; j++) {\n",
        "            int offset = i * N + j;\n",
        "            *(y + offset) = j;\n",
        "        }\n",
        "    }\n",
        "\n",
        "    clock_t start, end;\n",
        "    double time_taken, sum = 0, ave = 0;\n",
        "    for (int i = 0; i < loops; i++) {\n",
        "        start = clock();  // record time\n",
        "        ElemW(x, y, z, N);\n",
        "        end = clock();\n",
        "        time_taken = ((double)(end - start)) * 1e6 / CLOCKS_PER_SEC;\n",
        "        sum += time_taken;  // total execution time\n",
        "    }\n",
        "\n",
        "    ave = sum / loops;  // average execution time\n",
        "\n",
        "    printf(\"ARRAYSIZE of %d x %d Average time: %f microseconds\\n\", N, N, ave);\n",
        "    printf(\"Element Wise Product Test for matrix of 2's multiplied matrix of 1 to N...\\n\");\n",
        "\n",
        "    verifyMatrixMultiplication(x, y, z, N);\n",
        "\n",
        "    free(x);\n",
        "    free(y);\n",
        "    free(z);\n",
        "\n",
        "    return 0;\n",
        "}\n"
      ],
      "metadata": {
        "colab": {
          "base_uri": "https://localhost:8080/"
        },
        "id": "9C_PedloUtSU",
        "outputId": "7069cc06-a0b7-4ea6-ed15-bed4abd72e99"
      },
      "execution_count": null,
      "outputs": [
        {
          "output_type": "stream",
          "name": "stdout",
          "text": [
            "Writing ElementWiseC.c\n"
          ]
        }
      ]
    },
    {
      "cell_type": "markdown",
      "source": [
        "## N = 1024"
      ],
      "metadata": {
        "id": "EJlBK_NCUvnf"
      }
    },
    {
      "cell_type": "code",
      "source": [
        "%%writefile parameters.c\n",
        "const int N = 1024; //number of elements\n",
        "const int ARRAY_SIZE = N*N;\n",
        "const int loops = 30;"
      ],
      "metadata": {
        "colab": {
          "base_uri": "https://localhost:8080/"
        },
        "id": "Sv86cKqSUy8S",
        "outputId": "e134e138-df99-43c6-a7f1-20507301219c"
      },
      "execution_count": null,
      "outputs": [
        {
          "output_type": "stream",
          "name": "stdout",
          "text": [
            "Overwriting parameters.c\n"
          ]
        }
      ]
    },
    {
      "cell_type": "code",
      "source": [
        "%%shell\n",
        "g++ ElementWiseC.c -o ElementWiseC\n",
        "./ElementWiseC"
      ],
      "metadata": {
        "colab": {
          "base_uri": "https://localhost:8080/"
        },
        "id": "0QkYwtA7U0J9",
        "outputId": "dd41567f-2142-43bb-8166-532caad285ae"
      },
      "execution_count": null,
      "outputs": [
        {
          "output_type": "stream",
          "name": "stdout",
          "text": [
            "ARRAYSIZE of 1024 x 1024 Average time: 4313.733333 microseconds\n",
            "Element Wise Product Test for matrix of 2's multiplied matrix of 1 to N...\n",
            "Verification successful. Matrix multiplication is correct.\n"
          ]
        },
        {
          "output_type": "execute_result",
          "data": {
            "text/plain": []
          },
          "metadata": {},
          "execution_count": 5
        }
      ]
    },
    {
      "cell_type": "markdown",
      "source": [
        "## N = 2048\n",
        "\n"
      ],
      "metadata": {
        "id": "ABj94fW-U2aG"
      }
    },
    {
      "cell_type": "code",
      "source": [
        "%%writefile parameters.c\n",
        "const int N = 2048; //number of elements\n",
        "const int ARRAY_SIZE = N*N;\n",
        "const int loops = 30;"
      ],
      "metadata": {
        "colab": {
          "base_uri": "https://localhost:8080/"
        },
        "id": "vcJtdt3FU3dX",
        "outputId": "37322abd-3f2e-4de9-e550-fa04ade95f6b"
      },
      "execution_count": null,
      "outputs": [
        {
          "output_type": "stream",
          "name": "stdout",
          "text": [
            "Overwriting parameters.c\n"
          ]
        }
      ]
    },
    {
      "cell_type": "code",
      "source": [
        "%%shell\n",
        "g++ ElementWiseC.c -o ElementWiseC\n",
        "./ElementWiseC"
      ],
      "metadata": {
        "colab": {
          "base_uri": "https://localhost:8080/"
        },
        "id": "AJa0n0eEU5Wq",
        "outputId": "a6ad169c-f757-4aa9-d412-1b6055b742a0"
      },
      "execution_count": null,
      "outputs": [
        {
          "output_type": "stream",
          "name": "stdout",
          "text": [
            "ARRAYSIZE of 2048 x 2048 Average time: 15061.766667 microseconds\n",
            "Element Wise Product Test for matrix of 2's multiplied matrix of 1 to N...\n",
            "Verification successful. Matrix multiplication is correct.\n"
          ]
        },
        {
          "output_type": "execute_result",
          "data": {
            "text/plain": []
          },
          "metadata": {},
          "execution_count": 7
        }
      ]
    },
    {
      "cell_type": "markdown",
      "source": [
        "## N = 4096"
      ],
      "metadata": {
        "id": "TkK7YIm0U6tG"
      }
    },
    {
      "cell_type": "code",
      "source": [
        "%%writefile parameters.c\n",
        "const int N = 4096; //number of elements\n",
        "const int ARRAY_SIZE = N*N;\n",
        "const int loops = 31;"
      ],
      "metadata": {
        "colab": {
          "base_uri": "https://localhost:8080/"
        },
        "id": "h4yjAjPkU8eu",
        "outputId": "0b464275-445a-41d7-a0e4-318829a8bc5b"
      },
      "execution_count": null,
      "outputs": [
        {
          "output_type": "stream",
          "name": "stdout",
          "text": [
            "Overwriting parameters.c\n"
          ]
        }
      ]
    },
    {
      "cell_type": "code",
      "source": [
        "%%shell\n",
        "g++ ElementWiseC.c -o ElementWiseC\n",
        "./ElementWiseC"
      ],
      "metadata": {
        "colab": {
          "base_uri": "https://localhost:8080/"
        },
        "id": "naLRmdDPU9be",
        "outputId": "a9331f2b-f1c0-4353-9098-7d7ed34b44d1"
      },
      "execution_count": null,
      "outputs": [
        {
          "output_type": "stream",
          "name": "stdout",
          "text": [
            "ARRAYSIZE of 4096 x 4096 Average time: 61957.225806 microseconds\n",
            "Element Wise Product Test for matrix of 2's multiplied matrix of 1 to N...\n",
            "Verification successful. Matrix multiplication is correct.\n"
          ]
        },
        {
          "output_type": "execute_result",
          "data": {
            "text/plain": []
          },
          "metadata": {},
          "execution_count": 9
        }
      ]
    },
    {
      "cell_type": "markdown",
      "source": [
        "# 1D Matrix Multiplication using CUDA"
      ],
      "metadata": {
        "id": "oEF_Tl7DU_Zb"
      }
    },
    {
      "cell_type": "code",
      "source": [
        "%%writefile Cuda1D.cu \n",
        "#include <stdio.h>\n",
        "#include <stdlib.h>\n",
        "#include <time.h>\n",
        "#include \"parameters.c\"\n",
        "\n",
        "__global__ \n",
        "void matrixMul(float *x, float *y, float *z, int N)\n",
        "{ \n",
        "    int tid = blockIdx.x * blockDim.x + threadIdx.x;\n",
        "    int stride = blockDim.x * gridDim.x;\n",
        "\n",
        "    for(int i = tid; i < N; i += stride)\n",
        "    {\n",
        "        float sum = 0.0f;\n",
        "        for (int j = 0; j < N; j++) {\n",
        "            sum += x[i * N + j] * y[j];\n",
        "        }\n",
        "        z[i] = sum;\n",
        "    }\n",
        "}\n",
        "\n",
        "void verifyMatrixMultiplication(float *x, float *y, float *z, int N) {\n",
        "    for (int i = 0; i < N; i++) {\n",
        "        float expected = 0.0f;\n",
        "        for (int j = 0; j < N; j++) {\n",
        "            expected += x[i * N + j] * y[j];\n",
        "        }\n",
        "        if (z[i] != expected) {\n",
        "            printf(\"Verification failed at index %d.\\n\", i);\n",
        "            printf(\"Expected: %f, Actual: %f\\n\", expected, z[i]);\n",
        "            return;\n",
        "        }\n",
        "    }\n",
        "    printf(\"Verification successful. Matrix multiplication is correct.\\n\");\n",
        "}\n",
        "\n",
        "int main()\n",
        "{\n",
        "    const int ARRAY_BYTES = ARRAY_SIZE * sizeof(float);\n",
        "    float *x, *y, *z;\n",
        "    int blocks = (ARRAY_SIZE + bsize - 1) / bsize;  \n",
        "    cudaMallocManaged(&x, ARRAY_BYTES);\n",
        "    cudaMallocManaged(&y, ARRAY_BYTES);\n",
        "    cudaMallocManaged(&z, ARRAY_BYTES);\n",
        "\n",
        "    for (int i = 0; i < N; i++)\n",
        "    {\n",
        "        for (int j = 0; j < N; j++)\n",
        "        {\n",
        "            int offset = i * N + j;\n",
        "            x[offset] = 2.0f;\n",
        "        }\n",
        "        y[i] = 1.0f;\n",
        "    }\n",
        "\n",
        "    cudaMemAdvise(x, ARRAY_BYTES, cudaMemAdviseSetReadMostly, 0);\n",
        "    cudaMemAdvise(y, ARRAY_BYTES, cudaMemAdviseSetReadMostly, 0);\n",
        "\n",
        "    cudaMemPrefetchAsync(x, ARRAY_BYTES, cudaCpuDeviceId);\n",
        "    cudaMemPrefetchAsync(y, ARRAY_BYTES, cudaCpuDeviceId);\n",
        "\n",
        "    for (int i = 0; i < loops; i++)\n",
        "    {\n",
        "        matrixMul<<<blocks, threadsPerBlock>>>(x, y, z, N);\n",
        "        cudaDeviceSynchronize();\n",
        "    }\n",
        "\n",
        "    verifyMatrixMultiplication(x, y, z, N);\n",
        "\n",
        "    cudaFree(x);\n",
        "    cudaFree(y);\n",
        "    cudaFree(z);\n",
        "\n",
        "    return 0;\n",
        "}\n"
      ],
      "metadata": {
        "colab": {
          "base_uri": "https://localhost:8080/"
        },
        "id": "hJxjtk7VU_8S",
        "outputId": "82b7637e-b1d2-468b-d8e7-f6a7f6ed24a0"
      },
      "execution_count": null,
      "outputs": [
        {
          "output_type": "stream",
          "name": "stdout",
          "text": [
            "Writing Cuda1D.cu\n"
          ]
        }
      ]
    },
    {
      "cell_type": "markdown",
      "source": [
        "## Vector Size = 2^20 , Threads per block = 256"
      ],
      "metadata": {
        "id": "07gzdWCjVCda"
      }
    },
    {
      "cell_type": "code",
      "source": [
        "%%writefile parameters.c\n",
        "dim3 threadsPerBlock(256,1,1);\n",
        "const int bsize = 256;\n",
        "const int N = 1024; //number of elements\n",
        "const int ARRAY_SIZE = N*N;\n",
        "const int loops = 30;\n"
      ],
      "metadata": {
        "colab": {
          "base_uri": "https://localhost:8080/"
        },
        "id": "e-kYRirGVDYn",
        "outputId": "47205966-bbef-4555-8d7b-4f910d9ba209"
      },
      "execution_count": null,
      "outputs": [
        {
          "output_type": "stream",
          "name": "stdout",
          "text": [
            "Overwriting parameters.c\n"
          ]
        }
      ]
    },
    {
      "cell_type": "code",
      "source": [
        "%%shell\n",
        "nvcc Cuda1D.cu -o Cuda1D\n",
        "nvprof ./Cuda1D"
      ],
      "metadata": {
        "colab": {
          "base_uri": "https://localhost:8080/"
        },
        "id": "A-usB9RmVETr",
        "outputId": "6889c40a-cc44-4195-ec2c-4597fdfb755e"
      },
      "execution_count": null,
      "outputs": [
        {
          "output_type": "stream",
          "name": "stdout",
          "text": [
            "==7033== NVPROF is profiling process 7033, command: ./Cuda1D\n",
            "Verification successful. Matrix multiplication is correct.\n",
            "==7033== Profiling application: ./Cuda1D\n",
            "==7033== Profiling result:\n",
            "            Type  Time(%)      Time     Calls       Avg       Min       Max  Name\n",
            " GPU activities:  100.00%  30.953ms        30  1.0318ms  977.48us  2.4564ms  matrixMul(float*, float*, float*, int)\n",
            "      API calls:   84.79%  187.45ms         3  62.484ms  10.291us  187.40ms  cudaMallocManaged\n",
            "                   14.06%  31.083ms        30  1.0361ms  964.89us  2.4639ms  cudaDeviceSynchronize\n",
            "                    0.49%  1.0884ms         2  544.18us  21.283us  1.0671ms  cudaMemPrefetchAsync\n",
            "                    0.34%  741.97us         3  247.32us  64.289us  392.96us  cudaFree\n",
            "                    0.13%  291.38us        30  9.7120us  4.4420us  32.789us  cudaLaunchKernel\n",
            "                    0.10%  226.34us         2  113.17us  12.158us  214.18us  cudaMemAdvise\n",
            "                    0.07%  147.88us       101  1.4640us     139ns  66.239us  cuDeviceGetAttribute\n",
            "                    0.01%  27.087us         1  27.087us  27.087us  27.087us  cuDeviceGetName\n",
            "                    0.00%  5.8160us         1  5.8160us  5.8160us  5.8160us  cuDeviceGetPCIBusId\n",
            "                    0.00%  1.9740us         3     658ns     194ns  1.4910us  cuDeviceGetCount\n",
            "                    0.00%     977ns         2     488ns     273ns     704ns  cuDeviceGet\n",
            "                    0.00%     621ns         1     621ns     621ns     621ns  cuDeviceTotalMem\n",
            "                    0.00%     483ns         1     483ns     483ns     483ns  cuModuleGetLoadingMode\n",
            "                    0.00%     264ns         1     264ns     264ns     264ns  cuDeviceGetUuid\n",
            "\n",
            "==7033== Unified Memory profiling result:\n",
            "Device \"Tesla T4 (0)\"\n",
            "   Count  Avg Size  Min Size  Max Size  Total Size  Total Time  Name\n",
            "      32  130.00KB  4.0000KB  768.00KB  4.062500MB  435.1910us  Host To Device\n",
            "       2  32.000KB  4.0000KB  60.000KB  64.00000KB  8.352000us  Device To Host\n",
            "       6         -         -         -           -  1.523160ms  Gpu page fault groups\n",
            "Total CPU Page faults: 14\n"
          ]
        },
        {
          "output_type": "execute_result",
          "data": {
            "text/plain": []
          },
          "metadata": {},
          "execution_count": 8
        }
      ]
    },
    {
      "cell_type": "markdown",
      "source": [
        "## Vector Size = 2^22 , Threads per block = 512"
      ],
      "metadata": {
        "id": "ErsjwfCAVFtI"
      }
    },
    {
      "cell_type": "code",
      "source": [
        "%%writefile parameters.c\n",
        "dim3 threadsPerBlock(512,1,1);\n",
        "const int bsize = 512;\n",
        "const int N = 2048; //number of elements\n",
        "const int ARRAY_SIZE = N*N;\n",
        "const int loops = 30;\n"
      ],
      "metadata": {
        "id": "D1FdgEtUVGo8",
        "colab": {
          "base_uri": "https://localhost:8080/"
        },
        "outputId": "4de2314e-3319-4bd7-a666-9776a77fb4c4"
      },
      "execution_count": null,
      "outputs": [
        {
          "output_type": "stream",
          "name": "stdout",
          "text": [
            "Overwriting parameters.c\n"
          ]
        }
      ]
    },
    {
      "cell_type": "code",
      "source": [
        "%%shell\n",
        "nvcc Cuda1D.cu -o Cuda1D\n",
        "nvprof ./Cuda1D"
      ],
      "metadata": {
        "id": "UP-ShiCtVHb6",
        "colab": {
          "base_uri": "https://localhost:8080/"
        },
        "outputId": "17f96405-c5e8-43f9-cc29-34ee4ffe85bf"
      },
      "execution_count": null,
      "outputs": [
        {
          "output_type": "stream",
          "name": "stdout",
          "text": [
            "==7341== NVPROF is profiling process 7341, command: ./Cuda1D\n",
            "Verification successful. Matrix multiplication is correct.\n",
            "==7341== Profiling application: ./Cuda1D\n",
            "==7341== Profiling result:\n",
            "            Type  Time(%)      Time     Calls       Avg       Min       Max  Name\n",
            " GPU activities:  100.00%  127.37ms        30  4.2455ms  3.9373ms  12.708ms  matrixMul(float*, float*, float*, int)\n",
            "      API calls:   51.46%  143.29ms         3  47.765ms  20.462us  143.24ms  cudaMallocManaged\n",
            "                   45.81%  127.54ms        30  4.2515ms  3.9435ms  12.716ms  cudaDeviceSynchronize\n",
            "                    1.54%  4.2769ms         2  2.1385ms  21.191us  4.2557ms  cudaMemPrefetchAsync\n",
            "                    0.69%  1.9160ms         3  638.67us  61.682us  1.1991ms  cudaFree\n",
            "                    0.30%  840.41us         2  420.20us  15.717us  824.69us  cudaMemAdvise\n",
            "                    0.14%  396.92us        30  13.230us  5.9480us  35.738us  cudaLaunchKernel\n",
            "                    0.05%  131.61us       101  1.3030us     133ns  62.639us  cuDeviceGetAttribute\n",
            "                    0.01%  28.034us         1  28.034us  28.034us  28.034us  cuDeviceGetName\n",
            "                    0.00%  6.4260us         1  6.4260us  6.4260us  6.4260us  cuDeviceGetPCIBusId\n",
            "                    0.00%  1.7930us         3     597ns     249ns  1.2110us  cuDeviceGetCount\n",
            "                    0.00%  1.1180us         2     559ns     294ns     824ns  cuDeviceGet\n",
            "                    0.00%     490ns         1     490ns     490ns     490ns  cuModuleGetLoadingMode\n",
            "                    0.00%     454ns         1     454ns     454ns     454ns  cuDeviceTotalMem\n",
            "                    0.00%     238ns         1     238ns     238ns     238ns  cuDeviceGetUuid\n",
            "\n",
            "==7341== Unified Memory profiling result:\n",
            "Device \"Tesla T4 (0)\"\n",
            "   Count  Avg Size  Min Size  Max Size  Total Size  Total Time  Name\n",
            "    2178  7.5518KB  4.0000KB  512.00KB  16.06250MB  6.744564ms  Host To Device\n",
            "       2  32.000KB  4.0000KB  60.000KB  64.00000KB  8.992000us  Device To Host\n",
            "      18         -         -         -           -  8.738496ms  Gpu page fault groups\n",
            "Total CPU Page faults: 50\n"
          ]
        },
        {
          "output_type": "execute_result",
          "data": {
            "text/plain": []
          },
          "metadata": {},
          "execution_count": 12
        }
      ]
    },
    {
      "cell_type": "markdown",
      "source": [
        "## Vector Size = 2^24 , Threads per block = 1024"
      ],
      "metadata": {
        "id": "e3AiuBLBVIjh"
      }
    },
    {
      "cell_type": "code",
      "source": [
        "%%writefile parameters.c\n",
        "dim3 threadsPerBlock(1024,1,1);\n",
        "const int bsize = 1024;\n",
        "const int N = 4096; //number of elements\n",
        "const int ARRAY_SIZE = N*N;\n",
        "const int loops = 30;"
      ],
      "metadata": {
        "id": "rR0KATrGVJz6"
      },
      "execution_count": null,
      "outputs": []
    },
    {
      "cell_type": "code",
      "source": [
        "%%shell\n",
        "nvcc Cuda1D.cu -o Cuda1D\n",
        "nvprof ./Cuda1D"
      ],
      "metadata": {
        "id": "VKUFMA4PVKxZ"
      },
      "execution_count": null,
      "outputs": []
    },
    {
      "cell_type": "markdown",
      "source": [
        "# 2D Matrix Multiplication using CUDA"
      ],
      "metadata": {
        "id": "yNvJSpJhVLvq"
      }
    },
    {
      "cell_type": "code",
      "source": [
        "%%writefile ElementWiseCU.cu\n",
        "#include <stdio.h>\n",
        "#include <stdlib.h>\n",
        "#include <time.h>\n",
        "#include \"parameters.c\"\n",
        "\n",
        "__global__ \n",
        "void ElementWise(float *x, float *y, float *z, int N)\n",
        "{ \n",
        "    int ix, iy, stridex, stridey, offset;\n",
        "    ix = blockIdx.x * blockDim.x + threadIdx.x;\n",
        "    iy = blockIdx.y * blockDim.y + threadIdx.y;\n",
        "    stridex = blockDim.x * gridDim.x;\n",
        "    stridey = blockDim.y * gridDim.y;\n",
        "    \n",
        "    for(int i = ix; i < N; i += stridex)\n",
        "    {\n",
        "        for (int j = iy; j < N; j += stridey)\n",
        "        {\n",
        "            offset = i * N + j;\n",
        "            *(z + offset) = *(x + offset) * *(y + offset);\n",
        "        }\n",
        "    }\n",
        "}\n",
        "\n",
        "void verifyMatrixMultiplication(float *x, float *y, float *z, int N) {\n",
        "    for (int i = 0; i < N; i++) {\n",
        "        for (int j = 0; j < N; j++) {\n",
        "            float expected = x[i * N + j] * y[i * N + j];\n",
        "            if (z[i * N + j] !=A expected) {\n",
        "                printf(\"Verification failed at index (%d, %d).\\n\", i, j);\n",
        "                printf(\"Expected: %f, Actual: %f\\n\", expected, z[i * N + j]);\n",
        "                return;\n",
        "            }\n",
        "        }\n",
        "    }\n",
        "    printf(\"Verification successful. Matrix multiplication is correct.\\n\");\n",
        "}\n",
        "\n",
        "int main()\n",
        "{\n",
        "    const int ARRAY_BYTES = ARRAY_SIZE * sizeof(float);\n",
        "    float *x, *y, *z;\n",
        "    int blocks = (ARRAY_SIZE + bsize - 1) / bsize;  \n",
        "    cudaMallocManaged(&x, ARRAY_BYTES);\n",
        "    cudaMallocManaged(&y, ARRAY_BYTES);\n",
        "    cudaMallocManaged(&z, ARRAY_BYTES);\n",
        "    \n",
        "    for(int i = 0; i < N; i++)\n",
        "    {\n",
        "        for (int j = 0; j < N; j++)\n",
        "        {\n",
        "            int offset = i * N + j;\n",
        "            *(x + offset) = float(2);\n",
        "        }\n",
        "    }\n",
        "\n",
        "    for(int i = 0; i < N; i++)\n",
        "    {\n",
        "        for (int j = 0; j < N; j++)\n",
        "        {\n",
        "            int offset = i * N + j;\n",
        "            *(y + offset) = float(j);\n",
        "        }\n",
        "    }\n",
        "\n",
        "    cudaMemAdvise(x, ARRAY_BYTES, cudaMemAdviseSetReadMostly, 0);\n",
        "    cudaMemAdvise(y, ARRAY_BYTES, cudaMemAdviseSetReadMostly, 0);\n",
        "\n",
        "    cudaMemPrefetchAsync(x, ARRAY_BYTES, cudaCpuDeviceId);\n",
        "    cudaMemPrefetchAsync(y, ARRAY_BYTES, cudaCpuDeviceId);\n",
        "\n",
        "    for (int i = 0; i < loops; i++)\n",
        "    {\n",
        "        ElementWise<<<blocks, threadsPerBlock>>>(x, y, z, N); \n",
        "        cudaDeviceSynchronize();   \n",
        "    }\n",
        "\n",
        "    verifyMatrixMultiplication(x, y, z, N);\n",
        "\n",
        "    cudaFree(x);\n",
        "    cudaFree(y);\n",
        "    cudaFree(z);\n",
        "\n",
        "    return 0;\n",
        "}\n"
      ],
      "metadata": {
        "id": "3NcIThsIVMra",
        "colab": {
          "base_uri": "https://localhost:8080/"
        },
        "outputId": "d461976c-1552-45be-c88e-37f0509f7bab"
      },
      "execution_count": null,
      "outputs": [
        {
          "output_type": "stream",
          "name": "stdout",
          "text": [
            "Writing ElementWiseCU.cu\n"
          ]
        }
      ]
    },
    {
      "cell_type": "markdown",
      "source": [
        "## Vector Size = 1024x1024 , Threads per block = 8x8"
      ],
      "metadata": {
        "id": "3qKJUAOPVN_B"
      }
    },
    {
      "cell_type": "code",
      "source": [
        "%%writefile parameters.c\n",
        "dim3 threadsPerBlock(8,8,1);\n",
        "const int bsize = 64;\n",
        "const int N = 1024; //number of elements\n",
        "const int ARRAY_SIZE = N*N;\n",
        "const int loops = 30;\n"
      ],
      "metadata": {
        "id": "dex8T3c-VPEP",
        "colab": {
          "base_uri": "https://localhost:8080/"
        },
        "outputId": "13610324-6c62-4adc-a25f-d284cc4947ba"
      },
      "execution_count": null,
      "outputs": [
        {
          "output_type": "stream",
          "name": "stdout",
          "text": [
            "Writing parameters.c\n"
          ]
        }
      ]
    },
    {
      "cell_type": "code",
      "source": [
        "%%shell\n",
        "nvcc ElementWiseCU.cu -o ElementWiseCU\n",
        "nvprof ./ElementWiseCU"
      ],
      "metadata": {
        "id": "NEwKGv8sVP6l",
        "colab": {
          "base_uri": "https://localhost:8080/"
        },
        "outputId": "4259d28e-797f-41ca-811f-816fc059ab73"
      },
      "execution_count": null,
      "outputs": [
        {
          "output_type": "stream",
          "name": "stdout",
          "text": [
            "==6395== NVPROF is profiling process 6395, command: ./ElementWiseCU\n",
            "Verification successful. Matrix multiplication is correct.\n",
            "==6395== Profiling application: ./ElementWiseCU\n",
            "==6395== Profiling result:\n",
            "            Type  Time(%)      Time     Calls       Avg       Min       Max  Name\n",
            " GPU activities:  100.00%  6.9524ms        30  231.75us  131.87us  3.0431ms  ElementWise(float*, float*, float*, int)\n",
            "      API calls:   96.74%  291.60ms         3  97.200ms  10.107us  291.56ms  cudaMallocManaged\n",
            "                    2.35%  7.0879ms        30  236.26us  136.12us  3.0497ms  cudaDeviceSynchronize\n",
            "                    0.36%  1.0879ms         1  1.0879ms  1.0879ms  1.0879ms  cuDeviceGetPCIBusId\n",
            "                    0.29%  873.97us         3  291.32us  276.00us  314.22us  cudaFree\n",
            "                    0.14%  412.39us         2  206.20us  192.48us  219.91us  cudaMemAdvise\n",
            "                    0.07%  199.02us        30  6.6330us  3.3520us  55.880us  cudaLaunchKernel\n",
            "                    0.04%  123.08us       101  1.2180us     129ns  50.223us  cuDeviceGetAttribute\n",
            "                    0.01%  28.324us         2  14.162us  4.4320us  23.892us  cudaMemPrefetchAsync\n",
            "                    0.01%  24.267us         1  24.267us  24.267us  24.267us  cuDeviceGetName\n",
            "                    0.00%  1.8160us         3     605ns     183ns  1.4410us  cuDeviceGetCount\n",
            "                    0.00%     987ns         2     493ns     187ns     800ns  cuDeviceGet\n",
            "                    0.00%     512ns         1     512ns     512ns     512ns  cuDeviceTotalMem\n",
            "                    0.00%     493ns         1     493ns     493ns     493ns  cuModuleGetLoadingMode\n",
            "                    0.00%     220ns         1     220ns     220ns     220ns  cuDeviceGetUuid\n",
            "\n",
            "==6395== Unified Memory profiling result:\n",
            "Device \"Tesla T4 (0)\"\n",
            "   Count  Avg Size  Min Size  Max Size  Total Size  Total Time  Name\n",
            "     277  29.573KB  4.0000KB  752.00KB  8.000000MB  1.416185ms  Host To Device\n",
            "      24  170.67KB  4.0000KB  0.9961MB  4.000000MB  362.2300us  Device To Host\n",
            "       6         -         -         -           -  4.161492ms  Gpu page fault groups\n",
            "Total CPU Page faults: 36\n"
          ]
        },
        {
          "output_type": "execute_result",
          "data": {
            "text/plain": []
          },
          "metadata": {},
          "execution_count": 3
        }
      ]
    },
    {
      "cell_type": "markdown",
      "source": [
        "## Vector Size = 2048x2048 , Threads per block = 16x16"
      ],
      "metadata": {
        "id": "f2-1EjOyVRAZ"
      }
    },
    {
      "cell_type": "code",
      "source": [
        "%%writefile parameters.c\n",
        "dim3 threadsPerBlock(16,16,1);\n",
        "const int bsize = 256;\n",
        "const int N = 2048; //number of elements\n",
        "const int ARRAY_SIZE = N*N;\n",
        "const int loops = 30;"
      ],
      "metadata": {
        "id": "MZiumuz6VR5w",
        "colab": {
          "base_uri": "https://localhost:8080/"
        },
        "outputId": "b521a09a-1e4b-4d41-e288-35c9f140c76b"
      },
      "execution_count": null,
      "outputs": [
        {
          "output_type": "stream",
          "name": "stdout",
          "text": [
            "Overwriting parameters.c\n"
          ]
        }
      ]
    },
    {
      "cell_type": "code",
      "source": [
        "%%shell\n",
        "nvcc ElementWiseCU.cu -o ElementWiseCU\n",
        "nvprof ./ElementWiseCU"
      ],
      "metadata": {
        "id": "gpQLBYTxVTrZ",
        "colab": {
          "base_uri": "https://localhost:8080/"
        },
        "outputId": "9591f44f-99fc-46ce-f90e-1dbaebda7131"
      },
      "execution_count": null,
      "outputs": [
        {
          "output_type": "stream",
          "name": "stdout",
          "text": [
            "==6931== NVPROF is profiling process 6931, command: ./ElementWiseCU\n",
            "Verification successful. Matrix multiplication is correct.\n",
            "==6931== Profiling application: ./ElementWiseCU\n",
            "==6931== Profiling result:\n",
            "            Type  Time(%)      Time     Calls       Avg       Min       Max  Name\n",
            " GPU activities:  100.00%  35.835ms        30  1.1945ms  694.89us  15.632ms  ElementWise(float*, float*, float*, int)\n",
            "      API calls:   78.53%  153.92ms         3  51.306ms  20.386us  153.86ms  cudaMallocManaged\n",
            "                   18.35%  35.970ms        30  1.1990ms  697.64us  15.641ms  cudaDeviceSynchronize\n",
            "                    2.06%  4.0433ms         3  1.3478ms  1.2988ms  1.4013ms  cudaFree\n",
            "                    0.83%  1.6183ms         2  809.14us  784.52us  833.76us  cudaMemAdvise\n",
            "                    0.13%  247.37us        30  8.2450us  4.1990us  42.370us  cudaLaunchKernel\n",
            "                    0.07%  129.41us       101  1.2810us     150ns  54.365us  cuDeviceGetAttribute\n",
            "                    0.02%  42.633us         2  21.316us  6.8520us  35.781us  cudaMemPrefetchAsync\n",
            "                    0.01%  25.759us         1  25.759us  25.759us  25.759us  cuDeviceGetName\n",
            "                    0.00%  6.7120us         1  6.7120us  6.7120us  6.7120us  cuDeviceGetPCIBusId\n",
            "                    0.00%  1.9730us         3     657ns     252ns  1.3460us  cuDeviceGetCount\n",
            "                    0.00%  1.2360us         2     618ns     271ns     965ns  cuDeviceGet\n",
            "                    0.00%     483ns         1     483ns     483ns     483ns  cuDeviceTotalMem\n",
            "                    0.00%     467ns         1     467ns     467ns     467ns  cuModuleGetLoadingMode\n",
            "                    0.00%     248ns         1     248ns     248ns     248ns  cuDeviceGetUuid\n",
            "\n",
            "==6931== Unified Memory profiling result:\n",
            "Device \"Tesla T4 (0)\"\n",
            "   Count  Avg Size  Min Size  Max Size  Total Size  Total Time  Name\n",
            "    3230  10.145KB  4.0000KB  484.00KB  32.00000MB  10.82097ms  Host To Device\n",
            "      96  170.67KB  4.0000KB  0.9961MB  16.00000MB  1.447612ms  Device To Host\n",
            "      20         -         -         -           -  25.63032ms  Gpu page fault groups\n",
            "Total CPU Page faults: 144\n"
          ]
        },
        {
          "output_type": "execute_result",
          "data": {
            "text/plain": []
          },
          "metadata": {},
          "execution_count": 5
        }
      ]
    },
    {
      "cell_type": "markdown",
      "source": [
        "## Vector Size = 4096x4096 , Threads per block = 32x32"
      ],
      "metadata": {
        "id": "EpUIhqAsVVfq"
      }
    },
    {
      "cell_type": "code",
      "source": [
        "%%writefile parameters.c\n",
        "dim3 threadsPerBlock(32,32,1);\n",
        "const int bsize = 1024;\n",
        "const int N = 4096; //number of elements\n",
        "const int ARRAY_SIZE = N*N;\n",
        "const int loops = 30;"
      ],
      "metadata": {
        "id": "XIDzx0HYVWYM",
        "colab": {
          "base_uri": "https://localhost:8080/"
        },
        "outputId": "09359ff6-118f-4a0c-e804-757eb094b1de"
      },
      "execution_count": null,
      "outputs": [
        {
          "output_type": "stream",
          "name": "stdout",
          "text": [
            "Overwriting parameters.c\n"
          ]
        }
      ]
    },
    {
      "cell_type": "code",
      "source": [
        "%%shell\n",
        "nvcc ElementWiseCU.cu -o ElementWiseCU\n",
        "nvprof ./ElementWiseCU"
      ],
      "metadata": {
        "id": "lSRUbk61VXV7",
        "colab": {
          "base_uri": "https://localhost:8080/"
        },
        "outputId": "54c08de4-ed8d-4155-b564-22ce94d2e088"
      },
      "execution_count": null,
      "outputs": [
        {
          "output_type": "stream",
          "name": "stdout",
          "text": [
            "==7141== NVPROF is profiling process 7141, command: ./ElementWiseCU\n",
            "Verification successful. Matrix multiplication is correct.\n",
            "==7141== Profiling application: ./ElementWiseCU\n",
            "==7141== Profiling result:\n",
            "            Type  Time(%)      Time     Calls       Avg       Min       Max  Name\n",
            " GPU activities:  100.00%  221.00ms        30  7.3668ms  2.3571ms  50.416ms  ElementWise(float*, float*, float*, int)\n",
            "      API calls:   56.18%  221.83ms        30  7.3944ms  2.3598ms  50.431ms  cudaDeviceSynchronize\n",
            "                   37.03%  146.24ms         3  48.747ms  13.860us  146.18ms  cudaMallocManaged\n",
            "                    4.76%  18.814ms         3  6.2713ms  5.0322ms  7.2423ms  cudaFree\n",
            "                    1.85%  7.3163ms         2  3.6582ms  3.1626ms  4.1538ms  cudaMemAdvise\n",
            "                    0.12%  455.46us        30  15.182us  5.9100us  41.374us  cudaLaunchKernel\n",
            "                    0.03%  120.42us       101  1.1920us     127ns  52.160us  cuDeviceGetAttribute\n",
            "                    0.02%  78.453us         2  39.226us  24.011us  54.442us  cudaMemPrefetchAsync\n",
            "                    0.01%  25.784us         1  25.784us  25.784us  25.784us  cuDeviceGetName\n",
            "                    0.00%  6.1210us         1  6.1210us  6.1210us  6.1210us  cuDeviceGetPCIBusId\n",
            "                    0.00%  2.1810us         3     727ns     189ns  1.7500us  cuDeviceGetCount\n",
            "                    0.00%     945ns         2     472ns     162ns     783ns  cuDeviceGet\n",
            "                    0.00%     544ns         1     544ns     544ns     544ns  cuModuleGetLoadingMode\n",
            "                    0.00%     396ns         1     396ns     396ns     396ns  cuDeviceTotalMem\n",
            "                    0.00%     219ns         1     219ns     219ns     219ns  cuDeviceGetUuid\n",
            "\n",
            "==7141== Unified Memory profiling result:\n",
            "Device \"Tesla T4 (0)\"\n",
            "   Count  Avg Size  Min Size  Max Size  Total Size  Total Time  Name\n",
            "    6878  14.941KB  4.0000KB  444.00KB  100.3633MB  26.59212ms  Host To Device\n",
            "     382  171.39KB  4.0000KB  0.9961MB  63.93750MB  5.645555ms  Device To Host\n",
            "Total CPU Page faults: 576\n"
          ]
        },
        {
          "output_type": "execute_result",
          "data": {
            "text/plain": []
          },
          "metadata": {},
          "execution_count": 10
        }
      ]
    }
  ]
}